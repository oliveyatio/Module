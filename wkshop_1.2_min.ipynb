{
 "cells": [
  {
   "cell_type": "markdown",
   "metadata": {
    "id": "PmLF5u2r2xju"
   },
   "source": [
    "## Warm Up\n",
    "\n",
    "Import numpy, matplotlib.pyplot and name them np and plt respectively. "
   ]
  },
  {
   "cell_type": "code",
   "execution_count": 6,
   "metadata": {
    "id": "AK3opr4n1vtn"
   },
   "outputs": [],
   "source": [
    "# import here\n",
    "import numpy as np\n",
    "\n",
    "import matplotlib as plt"
   ]
  },
  {
   "cell_type": "code",
   "execution_count": 2,
   "metadata": {
    "id": "ZFzjls1y3q6f"
   },
   "outputs": [
    {
     "name": "stdout",
     "output_type": "stream",
     "text": [
      "0\n",
      "1\n",
      "2\n",
      "3\n",
      "4\n",
      "5\n",
      "6\n",
      "7\n",
      "8\n",
      "9\n",
      "10\n",
      "11\n",
      "12\n",
      "13\n",
      "14\n",
      "15\n",
      "16\n",
      "17\n",
      "18\n",
      "19\n",
      "20\n",
      "21\n",
      "22\n",
      "23\n",
      "24\n",
      "25\n",
      "26\n",
      "27\n",
      "28\n",
      "29\n"
     ]
    }
   ],
   "source": [
    "# Use the range function to list out all even numbers between 1 and 30.\n",
    "for i in range (30):\n",
    "    print (i)\n"
   ]
  },
  {
   "cell_type": "markdown",
   "metadata": {
    "id": "C3kBiQQs31rh"
   },
   "source": [
    "## Exercise 7: A Tuple\n",
    "\n",
    "- Create a tuple with 6,1,2,3,4,5 as entries and name it \"Tuple\".\n",
    "- Convert the tuple to an array and name the array 'Array'.\n",
    "- Finally write a line that will double each element in Array **without** using a loop and print the result."
   ]
  },
  {
   "cell_type": "code",
   "execution_count": 7,
   "metadata": {
    "id": "NvxzoMOA4iSM"
   },
   "outputs": [
    {
     "name": "stdout",
     "output_type": "stream",
     "text": [
      "[12  2  4  6  8 10]\n"
     ]
    }
   ],
   "source": [
    "# exercise 7\n",
    "Tuple = (6,1,2,3,4,5)\n",
    "\n",
    "# convert tuple to Array\n",
    "Array = np.array(Tuple)\n",
    "\n",
    "# Double array\n",
    "Double_array = 2 * Array\n",
    "\n",
    "print (Double_array)"
   ]
  },
  {
   "cell_type": "markdown",
   "metadata": {
    "id": "gVvzl6r34iq-"
   },
   "source": [
    "## Exercise 8: Do it again!\n",
    "\n",
    "Now, let's do the above exercise with a loop. Convert Tuple to a list and name it \"List\". Use a for loop to double all elements in List and print the result. "
   ]
  },
  {
   "cell_type": "code",
   "execution_count": null,
   "metadata": {
    "id": "z5WZYQDl5Clv"
   },
   "outputs": [],
   "source": [
    "# exercise 8\n",
    "List = list (Tuple)\n",
    "\n",
    "for i in range (6):\n",
    "    r = List[i] * 2;\n",
    "    print (r)"
   ]
  },
  {
   "cell_type": "markdown",
   "metadata": {
    "id": "PMYZSLkK5Ddy"
   },
   "source": [
    "## Exercise 9\n",
    "\n",
    "How many iterations will this while loop have? Why does the while loop stop in the first place?\n",
    "\n",
    "```\n",
    "i=0\n",
    "while i<16:\n",
    "  print (i)\n",
    "  i=i+1\n",
    "```"
   ]
  },
  {
   "cell_type": "markdown",
   "metadata": {},
   "source": [
    "Write the number of iterations here:"
   ]
  },
  {
   "cell_type": "code",
   "execution_count": null,
   "metadata": {},
   "outputs": [],
   "source": [
    "Thi while loop have 16 iterations"
   ]
  },
  {
   "cell_type": "markdown",
   "metadata": {
    "id": "ODY5m0636R0s"
   },
   "source": [
    "Why does the while loop stop?"
   ]
  },
  {
   "cell_type": "code",
   "execution_count": null,
   "metadata": {},
   "outputs": [],
   "source": [
    "The loop stop because when i equal to 16, it is not respect the condition of the while loop"
   ]
  },
  {
   "cell_type": "markdown",
   "metadata": {
    "id": "zmo8t0YY6dvK"
   },
   "source": [
    "## Exercise 10: Blast Off!\n",
    "\n",
    "Use a loop that counts backwards from 5 and prints out 'Blast Off!' after it counts 1.\n",
    "\n",
    "Output should be\n",
    "\n",
    "```\n",
    "5\n",
    "4\n",
    "3\n",
    "2\n",
    "1\n",
    "Blast Off!\n",
    "```\n",
    "**Hint**\n",
    "The range function can go backwards. Make sure you select the appropriate starting number, ending number and make your step size -1. \n"
   ]
  },
  {
   "cell_type": "code",
   "execution_count": null,
   "metadata": {
    "id": "rVECd5cD7Nm7"
   },
   "outputs": [],
   "source": [
    "for i in range(5, 0, -1):\n",
    "    print(i)\n",
    "print ('Blast off')"
   ]
  },
  {
   "cell_type": "markdown",
   "metadata": {
    "id": "lRzR0mT87mTX"
   },
   "source": [
    "## Exercise 11: More Lists\n",
    "\n",
    "Follow the instructions to create the lists as required.\n",
    "\n",
    "1. Create a list with entries 0, 4, 5, 8, 2, 9 and name it \"num\". Use a while loop over num and print out all entries.\n",
    "2. Create an empty list and name it 'X'. Use a for loop to append all even numbers from 0 to 20 into X.\n",
    "3. Create a list with entries 6, 4, 6, 5, 123, 37, 82, 44, 39 and save it as \"numbers\". Loop through the elements in numbers and replace the element with \"Even\" if it is an even number.\n",
    "4. Create a empty list and a list with entries 1, 3, 2, 1, 5, 3, 5, 1, 4 and name them \"unique\" and \"original\" respectively. Use a loop to iterate over entries in \"original\" and add all unique entries into \"unique\".\n",
    "\n",
    "  Input:\n",
    "    - unique = `[]`\n",
    "    - original = `[1, 3, 2, 1, 5, 3, 5, 1, 4]`\n",
    "\n",
    "  Output:\n",
    "    - unique = `[1, 3, 2, 5, 4]`\n",
    "  \n",
    "  Hint Your loop should look something like this:\n",
    "\n",
    "    ```\n",
    "    for i in ___:\n",
    "        if i not in ___:\n",
    "            ____.append(i)\n",
    "\n",
    "    print (___)\n",
    "    ```"
   ]
  },
  {
   "cell_type": "code",
   "execution_count": 1,
   "metadata": {
    "id": "lfSYkTrb7SRz"
   },
   "outputs": [
    {
     "name": "stdout",
     "output_type": "stream",
     "text": [
      "0\n",
      "4\n",
      "5\n",
      "8\n",
      "2\n",
      "9\n"
     ]
    }
   ],
   "source": [
    "# 11.1\n",
    "num = [0,4,5,8,2,9]\n",
    "i = 0\n",
    "while i < len(num):\n",
    "    print (num[i])\n",
    "    i+=1"
   ]
  },
  {
   "cell_type": "code",
   "execution_count": 2,
   "metadata": {},
   "outputs": [
    {
     "name": "stdout",
     "output_type": "stream",
     "text": [
      "[0, 1, 2, 3, 4, 5, 6, 7, 8, 9, 10, 11, 12, 13, 14, 15, 16, 17, 18, 19, 20]\n"
     ]
    }
   ],
   "source": [
    "# 11.2\n",
    "X= []\n",
    "for i in range (21):\n",
    "    X.append(i)\n",
    "    \n",
    "print (X)"
   ]
  },
  {
   "cell_type": "code",
   "execution_count": 3,
   "metadata": {
    "id": "yyJB44e2AUMw"
   },
   "outputs": [
    {
     "name": "stdout",
     "output_type": "stream",
     "text": [
      "['Even', 'Even', 'Even', 5, 123, 37, 'Even', 'Even', 39]\n"
     ]
    }
   ],
   "source": [
    "# 11.3\n",
    "numbers = [6, 4, 6, 5, 123, 37, 82, 44, 39]\n",
    "for i in range(len(numbers)):\n",
    "    if numbers[i]%2 ==0:\n",
    "        numbers[i] = 'Even'\n",
    "print (numbers)\n"
   ]
  },
  {
   "cell_type": "code",
   "execution_count": 4,
   "metadata": {
    "id": "JbBbalz7-5Zd"
   },
   "outputs": [
    {
     "name": "stdout",
     "output_type": "stream",
     "text": [
      "[1, 3, 2, 5, 4]\n"
     ]
    }
   ],
   "source": [
    "# 11.4\n",
    "unique = []\n",
    "\n",
    "original = [1, 3, 2, 1, 5, 3, 5, 1, 4]\n",
    "\n",
    "for i in original:\n",
    "    if i not in unique:\n",
    "        unique.append(i)\n",
    "print (unique)\n"
   ]
  },
  {
   "cell_type": "code",
   "execution_count": null,
   "metadata": {},
   "outputs": [],
   "source": []
  }
 ],
 "metadata": {
  "colab": {
   "collapsed_sections": [],
   "name": "Workshop_Conditional_Logic.ipynb",
   "provenance": [
    {
     "file_id": "1QGauWFMGrzBXPCaLePeXlpREsuPZoxDC",
     "timestamp": 1612398079048
    }
   ]
  },
  "kernelspec": {
   "display_name": "Python 3 (ipykernel)",
   "language": "python",
   "name": "python3"
  },
  "language_info": {
   "codemirror_mode": {
    "name": "ipython",
    "version": 3
   },
   "file_extension": ".py",
   "mimetype": "text/x-python",
   "name": "python",
   "nbconvert_exporter": "python",
   "pygments_lexer": "ipython3",
   "version": "3.11.5"
  }
 },
 "nbformat": 4,
 "nbformat_minor": 1
}
