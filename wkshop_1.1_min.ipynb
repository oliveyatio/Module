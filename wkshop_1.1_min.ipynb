{
 "cells": [
  {
   "cell_type": "markdown",
   "metadata": {
    "id": "UXL9hpom_zZ_"
   },
   "source": [
    "# Fundamentals: Python Intro\n",
    "\n",
    "## Warm Up\n",
    "\n",
    "In the cell below, import numpy and name it 'np' and create a list with the python data types that you learned about in the pre-lecture. Name the list \"types\".\n",
    "Ex.\n",
    "\n",
    "```\n",
    "import ... as ...\n",
    "types = [...]\n",
    "```"
   ]
  },
  {
   "cell_type": "code",
   "execution_count": 4,
   "metadata": {},
   "outputs": [],
   "source": [
    "# import numpy and create the list here\n",
    "import numpy as np\n",
    "\n",
    "types = [1,2,3,4,5]"
   ]
  },
  {
   "cell_type": "code",
   "execution_count": 7,
   "metadata": {
    "id": "r7yDtDnwARh_",
    "scrolled": true
   },
   "outputs": [
    {
     "name": "stdout",
     "output_type": "stream",
     "text": [
      "1\n",
      "[4, 5]\n"
     ]
    }
   ],
   "source": [
    "# Warmup 1: Call the first element in types and slice the last 2 elements. Print both results.\n",
    "\n",
    "\n",
    "t1 = types[0]\n",
    "\n",
    "print (t1)\n",
    "\n",
    "\n",
    "t2 = types[3:]\n",
    "\n",
    "print (t2)\n",
    "\n",
    "\n",
    "\n"
   ]
  },
  {
   "cell_type": "code",
   "execution_count": 19,
   "metadata": {
    "id": "966SjVwbDEq0"
   },
   "outputs": [
    {
     "name": "stdout",
     "output_type": "stream",
     "text": [
      "[1, 0.5, 3, 4]\n"
     ]
    }
   ],
   "source": [
    "# Warmup 2: Divide by 4, the second element in \"types\". \n",
    "#types1 = [1,2/4, 3,4]\n",
    "\n",
    "#t4 = print(types1)\n",
    "\n",
    "The code was able to execute because the items of my lists are integers. "
   ]
  },
  {
   "cell_type": "markdown",
   "metadata": {
    "id": "rVDgBSgQ9QZz"
   },
   "source": [
    "In this text cell, explain why or why not the code was able to execute. (Your explanation does _not_ need to be very detailed.)"
   ]
  },
  {
   "cell_type": "markdown",
   "metadata": {
    "id": "TJ1OKy5fDVd1"
   },
   "source": [
    "## Exercise 1: Creating Data Containers\n",
    "\n",
    "Create a list, a set, a tuple and an array. \n",
    "\n",
    "- The list (in order) should have\n",
    "  - any 2 numbers as integers\n",
    "  - any 2 numbers as floating point numbers\n",
    "  - 2 of your favourite music artists as strings\n",
    "  - 6 elements total. Name this list **'First'** and print it. \n",
    "- The Set (in order) should have\n",
    "  - 1 even number less than 20\n",
    "  - 3 of the first letters of the alphabet as strings in seperate entries.\n",
    "  - 4 elements total. Name this set **'Second'** and print it.\n",
    "- The Tuple (in order) should have\n",
    "  - 6 negative numbers.\n",
    "  - 6 elements total. Name this Tuple **'Third'** and print it.\n",
    "- The array (in order) should have\n",
    "  - the same 6 elements as the tuple but these numbers should be positive.\n",
    "  - 6 elements total. Name this array **'Fourth'** and print it."
   ]
  },
  {
   "cell_type": "code",
   "execution_count": 255,
   "metadata": {
    "id": "rhW-sun-HwFI"
   },
   "outputs": [
    {
     "name": "stdout",
     "output_type": "stream",
     "text": [
      "[2, 4, 6.5, 8.2, 'Gael', 'shilo']\n"
     ]
    }
   ],
   "source": [
    "# The list\n",
    "First = [2, 4, 6.5, 8.2,'Gael', 'shilo']\n",
    "print (First)"
   ]
  },
  {
   "cell_type": "code",
   "execution_count": 256,
   "metadata": {
    "id": "1yKK4z0rHwSA"
   },
   "outputs": [
    {
     "name": "stdout",
     "output_type": "stream",
     "text": [
      "{8, 'a', 'c', 'b'}\n"
     ]
    }
   ],
   "source": [
    "# The set\n",
    "Second = {8,'a', 'b', 'c'}\n",
    "\n",
    "print (Second)"
   ]
  },
  {
   "cell_type": "code",
   "execution_count": 257,
   "metadata": {},
   "outputs": [
    {
     "name": "stdout",
     "output_type": "stream",
     "text": [
      "(-3, -5, -2, -9, -5, -7)\n"
     ]
    }
   ],
   "source": [
    "# The tuple\n",
    "Third = (-3, -5, -2 , -9 , -5, -7)\n",
    "\n",
    "print (Third)"
   ]
  },
  {
   "cell_type": "code",
   "execution_count": 258,
   "metadata": {},
   "outputs": [
    {
     "name": "stdout",
     "output_type": "stream",
     "text": [
      "[3 5 2 9 5 7]\n"
     ]
    }
   ],
   "source": [
    "# The array\n",
    "\n",
    "Fourth = np.array ( [3,5,2,9,5,7])\n",
    "\n",
    "print(Fourth)\n"
   ]
  },
  {
   "cell_type": "code",
   "execution_count": 259,
   "metadata": {
    "id": "PmeI6k0DLIPD",
    "scrolled": true
   },
   "outputs": [
    {
     "name": "stdout",
     "output_type": "stream",
     "text": [
      "[ 3  5  2  9  5  7  4 -7  7]\n"
     ]
    }
   ],
   "source": [
    "# Add the second element of 'First', and the last elements of 'Third' and 'Fourth'. Print the result.\n",
    "\n",
    "element1 = First[1]\n",
    "\n",
    "element2 = Third [-1]\n",
    "\n",
    "element3 = Fourth[-1]\n",
    "\n",
    "e = [element1, element2, element3]\n",
    "\n",
    "\n",
    "Fourth = np.append(Fourth, e)\n",
    "\n",
    "\n",
    "print (Fourth)\n",
    "\n",
    "\n",
    "\n",
    "\n",
    "\n",
    "\n",
    "\n",
    "\n",
    "\n"
   ]
  },
  {
   "cell_type": "code",
   "execution_count": null,
   "metadata": {},
   "outputs": [],
   "source": []
  },
  {
   "cell_type": "code",
   "execution_count": 260,
   "metadata": {
    "id": "Iw6KZ_oxLvJK"
   },
   "outputs": [
    {
     "name": "stdout",
     "output_type": "stream",
     "text": [
      "[ 4 -7  7]\n",
      "[3 5 2 9 5 7]\n",
      "[2, 4, 6.5, 8.2, 'Gael', 'shilo', 4, -7, 7]\n"
     ]
    }
   ],
   "source": [
    "# Slice the last 3 elements of 'Fourth' and append them to the list 'First'. Print the result.\n",
    "\n",
    "\n",
    "\n",
    "f1 = Fourth [6:9]     # f1 is the 3 elements of Fourth that i am slice\n",
    "\n",
    "Fourth = Fourth[:-3]  # The new value of Fourth without his 3 last elements\n",
    "\n",
    "print (f1)\n",
    "\n",
    "First.extend(f1)      # The new value of first with append the 3 elements\n",
    "\n",
    "print (Fourth)\n",
    "\n",
    "print (First)\n",
    "\n",
    "\n",
    "\n",
    "\n",
    "\n"
   ]
  },
  {
   "cell_type": "markdown",
   "metadata": {
    "id": "RX55PeiwNNz7"
   },
   "source": [
    "## Exercise 2: A Dictionary\n",
    "\n",
    "Create a dictionary with the following keys, 'Name', 'Year', 'Music' and 'Food'. The values associated with each key (in order) should be your name, the current year, you favourite genre of music and one of your favourite foods. Name the dictionary 'Me' and print it. "
   ]
  },
  {
   "cell_type": "code",
   "execution_count": 94,
   "metadata": {
    "id": "TLD8x4OaPhNI"
   },
   "outputs": [
    {
     "name": "stdout",
     "output_type": "stream",
     "text": [
      "{'Name': 'Olive', 'Year': '2024', 'Music': 'Shilo', 'Food': 'Rice'}\n"
     ]
    }
   ],
   "source": [
    "# your dictionary here\n",
    "Me = {'Name': 'Olive', 'Year': '2024', 'Music': 'Shilo', 'Food': 'Rice'}\n",
    "\n",
    "print (Me)"
   ]
  },
  {
   "cell_type": "code",
   "execution_count": 95,
   "metadata": {
    "id": "So_1ge7KPhkP"
   },
   "outputs": [
    {
     "data": {
      "text/plain": [
       "{'Name': 'Olive', 'Year': '2024', 'Music': 'Shilo', 'Food': 'Fish'}"
      ]
     },
     "execution_count": 95,
     "metadata": {},
     "output_type": "execute_result"
    }
   ],
   "source": [
    "# Replace the value associated with 'Food' to another one of your favourite foods. Print the updated dictionary.\n",
    "Me['Food'] = 'Fish'\n",
    "\n",
    "print (Me)"
   ]
  },
  {
   "cell_type": "markdown",
   "metadata": {
    "id": "PHorHCyjC3F9"
   },
   "source": [
    "## Exercise 3: An \"original\" List\n",
    "\n",
    "- Create a list with entries 1, 3, 2, 1, 5, 3, 5, 1, 4 and name it 'original'.\n",
    "- Create another list called 'unique' that only contains unique numbers from original.\n",
    "\n",
    "Example:\n",
    "\n",
    "```\n",
    "Input\n",
    "[1, 2, 3, 1]\n",
    "\n",
    "Output\n",
    "[1, 2, 3]\n",
    "```\n",
    "**Hint:** Think about the properties of a set from lecture.\n"
   ]
  },
  {
   "cell_type": "code",
   "execution_count": 277,
   "metadata": {
    "id": "cPWYXHe1C1hX"
   },
   "outputs": [],
   "source": [
    "\n"
   ]
  },
  {
   "cell_type": "code",
   "execution_count": 2,
   "metadata": {
    "scrolled": false
   },
   "outputs": [
    {
     "name": "stdout",
     "output_type": "stream",
     "text": [
      "[1, 2, 3, 4, 5]\n"
     ]
    }
   ],
   "source": [
    "my_list = [1, 2, 3, 4, 1, 5]\n",
    "my_set = set(my_list)\n",
    "new_list = list(my_set)  # Correct usage\n",
    "print(new_list)\n"
   ]
  },
  {
   "cell_type": "markdown",
   "metadata": {
    "id": "_cVTBnphH84j"
   },
   "source": [
    "## Exercise 4: Do the Math!\n",
    "\n",
    "Call the last element of the array \"Fourth\" that you created above. Raise this element to the second power and add it to the second element of the list \"First\"."
   ]
  },
  {
   "cell_type": "code",
   "execution_count": 261,
   "metadata": {
    "id": "Ik8NnTQ9VSeD"
   },
   "outputs": [
    {
     "data": {
      "text/plain": [
       "[2, 53, 6.5, 8.2, 'Gael', 'shilo', 4, -7, 7]"
      ]
     },
     "execution_count": 261,
     "metadata": {},
     "output_type": "execute_result"
    }
   ],
   "source": [
    "# do the math here...\n",
    "m1= Fourth[-1]\n",
    "\n",
    "m2 = m1 **2\n",
    "\n",
    "First[1] = First[1] + m2\n",
    "\n",
    "First"
   ]
  },
  {
   "cell_type": "code",
   "execution_count": 262,
   "metadata": {
    "id": "4HOSQvJDVTEE"
   },
   "outputs": [
    {
     "data": {
      "text/plain": [
       "[2, 53, 6.5, 8.2, 'Gael', 'shilo', 4, -7, 7, -9, -5, -7]"
      ]
     },
     "execution_count": 262,
     "metadata": {},
     "output_type": "execute_result"
    }
   ],
   "source": [
    "# Add the last three elements of \"Third\". \n",
    "th =Third [3:]\n",
    "\n",
    "First.extend(th)\n",
    "\n",
    "First"
   ]
  },
  {
   "cell_type": "markdown",
   "metadata": {
    "id": "lXS3i_GRVmk5"
   },
   "source": [
    "## Exercise 5: Conversion\n",
    "\n",
    "- Convert the tuple, \"Third\" to an array.\n",
    "- Double all the elements in \"Third\"\n",
    "- Add the elements in this array to the elements in \"Fourth\".\n",
    "\n",
    "To do this, use only 1 arithmetic statement. Store this result as \"Fifth\" and print it.\n",
    "\n",
    "**Hint** Answer should look like this. \n",
    "\n",
    "```\n",
    "Fifth = 2*___(____) + _____\n",
    "print (Fifth)\n",
    "```"
   ]
  },
  {
   "cell_type": "code",
   "execution_count": 263,
   "metadata": {
    "id": "5T35jbY3YL04",
    "scrolled": true
   },
   "outputs": [
    {
     "name": "stdout",
     "output_type": "stream",
     "text": [
      "[-3 -5 -2 -9 -5 -7]\n"
     ]
    }
   ],
   "source": [
    "# conversion here\n",
    "\n",
    "#Third_Array = np.array(Third)\n",
    "\n",
    "#Double_Third = Third_Array *2\n",
    "\n",
    "#t= Double_Third + Fourth\n",
    "\n",
    "Fifth = 2* np.array(Third) + Fourth\n",
    "\n",
    "print (Fifth)\n",
    "\n",
    "\n"
   ]
  },
  {
   "cell_type": "markdown",
   "metadata": {
    "id": "afaH5uSsJFeD"
   },
   "source": [
    "## Exercise 6: Conditionals\n",
    "\n",
    "Convert \"Fifth\" to a tuple and use a print statement to see if Fifth is equal to \"Third\"."
   ]
  },
  {
   "cell_type": "code",
   "execution_count": 1,
   "metadata": {
    "id": "x_9YDynWaAUz"
   },
   "outputs": [],
   "source": [
    "# conditionals here\n"
   ]
  },
  {
   "cell_type": "code",
   "execution_count": 264,
   "metadata": {},
   "outputs": [
    {
     "data": {
      "text/plain": [
       "(-3, -5, -2, -9, -5, -7)"
      ]
     },
     "execution_count": 264,
     "metadata": {},
     "output_type": "execute_result"
    }
   ],
   "source": [
    "Fifth = tuple (Fifth)\n",
    "\n",
    "Fifth"
   ]
  },
  {
   "cell_type": "code",
   "execution_count": 265,
   "metadata": {},
   "outputs": [
    {
     "name": "stdout",
     "output_type": "stream",
     "text": [
      "Fifth is equal to Third\n"
     ]
    }
   ],
   "source": [
    "if Fifth == Third:\n",
    "    print ('Fifth is equal to Third')\n",
    "else:\n",
    "    print ('Fifth is not equal to Third' )"
   ]
  },
  {
   "cell_type": "code",
   "execution_count": null,
   "metadata": {},
   "outputs": [],
   "source": []
  }
 ],
 "metadata": {
  "colab": {
   "collapsed_sections": [],
   "name": "Workshop_Data_Types.ipynb",
   "provenance": []
  },
  "kernelspec": {
   "display_name": "Python 3 (ipykernel)",
   "language": "python",
   "name": "python3"
  },
  "language_info": {
   "codemirror_mode": {
    "name": "ipython",
    "version": 3
   },
   "file_extension": ".py",
   "mimetype": "text/x-python",
   "name": "python",
   "nbconvert_exporter": "python",
   "pygments_lexer": "ipython3",
   "version": "3.11.5"
  },
  "metadata": {
   "interpreter": {
    "hash": "b8bdd4e700647ba2b08c59e5df8b7da1dcf50a218bcd4c1bcd9b3dc92e8788e5"
   }
  }
 },
 "nbformat": 4,
 "nbformat_minor": 1
}
